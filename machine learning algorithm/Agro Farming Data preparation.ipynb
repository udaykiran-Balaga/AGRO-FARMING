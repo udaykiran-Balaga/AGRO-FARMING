{
 "cells": [
  {
   "cell_type": "code",
   "execution_count": 1,
   "id": "f975c19e-2b1b-468e-8d21-3836fe0ae7fb",
   "metadata": {},
   "outputs": [],
   "source": [
    "# Importing libraries\n",
    "import pandas as pd"
   ]
  },
  {
   "cell_type": "code",
   "execution_count": 41,
   "id": "e34e9138-78aa-4fc2-aadf-b3b5df36064e",
   "metadata": {},
   "outputs": [],
   "source": [
    "# importing dataset\n",
    "\n",
    "df = pd.read_csv(r\"C:\\Users\\udayk\\Downloads\\agro Farming data\\DATASET - Sheet1.csv\")"
   ]
  },
  {
   "cell_type": "code",
   "execution_count": 3,
   "id": "422f6472-a845-489a-88b4-bded33f71a91",
   "metadata": {},
   "outputs": [
    {
     "data": {
      "text/html": [
       "<div>\n",
       "<style scoped>\n",
       "    .dataframe tbody tr th:only-of-type {\n",
       "        vertical-align: middle;\n",
       "    }\n",
       "\n",
       "    .dataframe tbody tr th {\n",
       "        vertical-align: top;\n",
       "    }\n",
       "\n",
       "    .dataframe thead th {\n",
       "        text-align: right;\n",
       "    }\n",
       "</style>\n",
       "<table border=\"1\" class=\"dataframe\">\n",
       "  <thead>\n",
       "    <tr style=\"text-align: right;\">\n",
       "      <th></th>\n",
       "      <th>CROP TYPE</th>\n",
       "      <th>SOIL TYPE</th>\n",
       "      <th>REGION</th>\n",
       "      <th>TEMPERATURE</th>\n",
       "      <th>WEATHER CONDITION</th>\n",
       "      <th>WATER REQUIREMENT</th>\n",
       "    </tr>\n",
       "  </thead>\n",
       "  <tbody>\n",
       "    <tr>\n",
       "      <th>0</th>\n",
       "      <td>BANANA</td>\n",
       "      <td>DRY</td>\n",
       "      <td>DESERT</td>\n",
       "      <td>20</td>\n",
       "      <td>NORMAL</td>\n",
       "      <td>8.75</td>\n",
       "    </tr>\n",
       "    <tr>\n",
       "      <th>1</th>\n",
       "      <td>BANANA</td>\n",
       "      <td>DRY</td>\n",
       "      <td>DESERT</td>\n",
       "      <td>32</td>\n",
       "      <td>SUNNY</td>\n",
       "      <td>10.25</td>\n",
       "    </tr>\n",
       "    <tr>\n",
       "      <th>2</th>\n",
       "      <td>BANANA</td>\n",
       "      <td>DRY</td>\n",
       "      <td>DESERT</td>\n",
       "      <td>21</td>\n",
       "      <td>WINDY</td>\n",
       "      <td>9.65</td>\n",
       "    </tr>\n",
       "    <tr>\n",
       "      <th>3</th>\n",
       "      <td>BANANA</td>\n",
       "      <td>DRY</td>\n",
       "      <td>DESERT</td>\n",
       "      <td>21</td>\n",
       "      <td>RAINY</td>\n",
       "      <td>0.75</td>\n",
       "    </tr>\n",
       "    <tr>\n",
       "      <th>4</th>\n",
       "      <td>BANANA</td>\n",
       "      <td>DRY</td>\n",
       "      <td>DESERT</td>\n",
       "      <td>20-30</td>\n",
       "      <td>NORMAL</td>\n",
       "      <td>9.85</td>\n",
       "    </tr>\n",
       "  </tbody>\n",
       "</table>\n",
       "</div>"
      ],
      "text/plain": [
       "  CROP TYPE SOIL TYPE  REGION TEMPERATURE WEATHER CONDITION  WATER REQUIREMENT\n",
       "0    BANANA       DRY  DESERT          20            NORMAL               8.75\n",
       "1    BANANA       DRY  DESERT          32             SUNNY              10.25\n",
       "2    BANANA       DRY  DESERT          21             WINDY               9.65\n",
       "3    BANANA       DRY  DESERT          21             RAINY               0.75\n",
       "4    BANANA       DRY  DESERT       20-30            NORMAL               9.85"
      ]
     },
     "execution_count": 3,
     "metadata": {},
     "output_type": "execute_result"
    }
   ],
   "source": [
    "data.head()"
   ]
  },
  {
   "cell_type": "code",
   "execution_count": 4,
   "id": "8f9debb8-7ed7-4a9e-af9d-f9abab7afa34",
   "metadata": {},
   "outputs": [
    {
     "data": {
      "text/plain": [
       "Index(['CROP TYPE', 'SOIL TYPE', 'REGION', 'TEMPERATURE', 'WEATHER CONDITION',\n",
       "       'WATER REQUIREMENT'],\n",
       "      dtype='object')"
      ]
     },
     "execution_count": 4,
     "metadata": {},
     "output_type": "execute_result"
    }
   ],
   "source": [
    "data.columns"
   ]
  },
  {
   "cell_type": "code",
   "execution_count": 5,
   "id": "e93a9b45-64b3-462c-a750-d14a90dc8c5b",
   "metadata": {},
   "outputs": [
    {
     "data": {
      "text/plain": [
       "CROP TYPE             object\n",
       "SOIL TYPE             object\n",
       "REGION                object\n",
       "TEMPERATURE           object\n",
       "WEATHER CONDITION     object\n",
       "WATER REQUIREMENT    float64\n",
       "dtype: object"
      ]
     },
     "execution_count": 5,
     "metadata": {},
     "output_type": "execute_result"
    }
   ],
   "source": [
    "data.dtypes"
   ]
  },
  {
   "cell_type": "code",
   "execution_count": 6,
   "id": "ff01a9aa-f006-4cb6-86b9-c355003b08e1",
   "metadata": {},
   "outputs": [
    {
     "name": "stdout",
     "output_type": "stream",
     "text": [
      "<class 'pandas.core.frame.DataFrame'>\n",
      "RangeIndex: 2880 entries, 0 to 2879\n",
      "Data columns (total 6 columns):\n",
      " #   Column             Non-Null Count  Dtype  \n",
      "---  ------             --------------  -----  \n",
      " 0   CROP TYPE          2880 non-null   object \n",
      " 1   SOIL TYPE          2880 non-null   object \n",
      " 2   REGION             2880 non-null   object \n",
      " 3   TEMPERATURE        2880 non-null   object \n",
      " 4   WEATHER CONDITION  2880 non-null   object \n",
      " 5   WATER REQUIREMENT  2880 non-null   float64\n",
      "dtypes: float64(1), object(5)\n",
      "memory usage: 135.1+ KB\n"
     ]
    }
   ],
   "source": [
    "data.info()"
   ]
  },
  {
   "cell_type": "code",
   "execution_count": 7,
   "id": "a9183e40-148c-46de-b756-baae9f18558a",
   "metadata": {},
   "outputs": [
    {
     "data": {
      "text/plain": [
       "CROP TYPE            0\n",
       "SOIL TYPE            0\n",
       "REGION               0\n",
       "TEMPERATURE          0\n",
       "WEATHER CONDITION    0\n",
       "WATER REQUIREMENT    0\n",
       "dtype: int64"
      ]
     },
     "execution_count": 7,
     "metadata": {},
     "output_type": "execute_result"
    }
   ],
   "source": [
    "data.isnull().sum()"
   ]
  },
  {
   "cell_type": "code",
   "execution_count": 8,
   "id": "ea4dc833-11a7-44f0-9a15-966928b0e9f2",
   "metadata": {},
   "outputs": [
    {
     "data": {
      "text/html": [
       "<div>\n",
       "<style scoped>\n",
       "    .dataframe tbody tr th:only-of-type {\n",
       "        vertical-align: middle;\n",
       "    }\n",
       "\n",
       "    .dataframe tbody tr th {\n",
       "        vertical-align: top;\n",
       "    }\n",
       "\n",
       "    .dataframe thead th {\n",
       "        text-align: right;\n",
       "    }\n",
       "</style>\n",
       "<table border=\"1\" class=\"dataframe\">\n",
       "  <thead>\n",
       "    <tr style=\"text-align: right;\">\n",
       "      <th></th>\n",
       "      <th>WATER REQUIREMENT</th>\n",
       "    </tr>\n",
       "  </thead>\n",
       "  <tbody>\n",
       "    <tr>\n",
       "      <th>count</th>\n",
       "      <td>2880.000000</td>\n",
       "    </tr>\n",
       "    <tr>\n",
       "      <th>mean</th>\n",
       "      <td>6.463141</td>\n",
       "    </tr>\n",
       "    <tr>\n",
       "      <th>std</th>\n",
       "      <td>22.687385</td>\n",
       "    </tr>\n",
       "    <tr>\n",
       "      <th>min</th>\n",
       "      <td>0.100000</td>\n",
       "    </tr>\n",
       "    <tr>\n",
       "      <th>25%</th>\n",
       "      <td>2.700000</td>\n",
       "    </tr>\n",
       "    <tr>\n",
       "      <th>50%</th>\n",
       "      <td>5.860000</td>\n",
       "    </tr>\n",
       "    <tr>\n",
       "      <th>75%</th>\n",
       "      <td>8.000000</td>\n",
       "    </tr>\n",
       "    <tr>\n",
       "      <th>max</th>\n",
       "      <td>606.000000</td>\n",
       "    </tr>\n",
       "  </tbody>\n",
       "</table>\n",
       "</div>"
      ],
      "text/plain": [
       "       WATER REQUIREMENT\n",
       "count        2880.000000\n",
       "mean            6.463141\n",
       "std            22.687385\n",
       "min             0.100000\n",
       "25%             2.700000\n",
       "50%             5.860000\n",
       "75%             8.000000\n",
       "max           606.000000"
      ]
     },
     "execution_count": 8,
     "metadata": {},
     "output_type": "execute_result"
    }
   ],
   "source": [
    "data.describe()"
   ]
  },
  {
   "cell_type": "code",
   "execution_count": 9,
   "id": "4020cea5-4d45-420c-86e7-7eebaf87e64d",
   "metadata": {},
   "outputs": [
    {
     "data": {
      "text/plain": [
       "2880"
      ]
     },
     "execution_count": 9,
     "metadata": {},
     "output_type": "execute_result"
    }
   ],
   "source": [
    "data.value_counts().sum()"
   ]
  },
  {
   "cell_type": "code",
   "execution_count": 10,
   "id": "c776b50b-718b-4965-b9ec-d50d936a9f87",
   "metadata": {},
   "outputs": [
    {
     "data": {
      "text/plain": [
       "array([1], dtype=int64)"
      ]
     },
     "execution_count": 10,
     "metadata": {},
     "output_type": "execute_result"
    }
   ],
   "source": [
    "data.value_counts().unique()"
   ]
  },
  {
   "cell_type": "code",
   "execution_count": 11,
   "id": "77eaa83c-3c7f-4d93-ac64-7cc318e8e0c0",
   "metadata": {},
   "outputs": [
    {
     "data": {
      "text/plain": [
       "(2880, 6)"
      ]
     },
     "execution_count": 11,
     "metadata": {},
     "output_type": "execute_result"
    }
   ],
   "source": [
    "data.shape"
   ]
  },
  {
   "cell_type": "code",
   "execution_count": 16,
   "id": "56998b81-7d23-4e9b-b125-80f0391f6cc0",
   "metadata": {},
   "outputs": [
    {
     "name": "stdout",
     "output_type": "stream",
     "text": [
      "Unique values in 'CROP TYPE': ['BANANA' 'SOYABEAN' 'CABBAGE' 'POTATO' 'RICE' 'MELON' 'MAIZE' 'CITRUS'\n",
      " 'BEAN' 'WHEAT' 'MUSTARD' 'COTTON' 'SUGARCANE' 'TOMATO' 'ONION']\n",
      "Unique values in 'SOIL TYPE': ['DRY' 'HUMID' 'WET']\n",
      "Unique values in 'REGION': ['DESERT' 'SEMI ARID' 'SEMI HUMID' 'HUMID']\n",
      "Unique values in 'WEATHER CONDITION': ['NORMAL' 'SUNNY' 'WINDY' 'RAINY']\n"
     ]
    }
   ],
   "source": [
    "\n",
    "# Check for unexpected values in categorical columns\n",
    "print(\"Unique values in 'CROP TYPE':\", data['CROP TYPE'].unique())\n",
    "print(\"Unique values in 'SOIL TYPE':\", data['SOIL TYPE'].unique())\n",
    "print(\"Unique values in 'REGION':\", data['REGION'].unique())\n",
    "print(\"Unique values in 'WEATHER CONDITION':\", data['WEATHER CONDITION'].unique())"
   ]
  },
  {
   "cell_type": "code",
   "execution_count": 27,
   "id": "e3c440eb-8948-4e35-a663-cb96d000f0d7",
   "metadata": {},
   "outputs": [
    {
     "name": "stdout",
     "output_type": "stream",
     "text": [
      "Root Mean Squared Error (RMSE): 3.553021153689985\n",
      "R-squared: 0.21217604837563742\n",
      "Model Coefficients: [ 0.00986938  0.25132813 -1.16101443 -1.22155437 -0.14487678  0.22714227]\n",
      "Model Intercept: 5.908162566985181\n",
      "      Actual  Predicted\n",
      "471     0.20   5.270284\n",
      "1453    7.50   8.247036\n",
      "2377   11.75   9.795756\n",
      "1601    6.83   6.744467\n",
      "1094    5.60   7.933790\n",
      "...      ...        ...\n",
      "811     7.50   4.700336\n",
      "109     9.00   8.177950\n",
      "2831    0.30   9.667924\n",
      "163     0.10   2.151702\n",
      "1921    7.62   6.512877\n",
      "\n",
      "[576 rows x 2 columns]\n"
     ]
    }
   ],
   "source": [
    "import pandas as pd\n",
    "import numpy as np\n",
    "from sklearn.model_selection import train_test_split\n",
    "from sklearn.linear_model import LinearRegression\n",
    "from sklearn.metrics import mean_squared_error, r2_score\n",
    "\n",
    "\n",
    "# Convert categorical columns to numerical using factorize\n",
    "df['CROP TYPE'], _ = pd.factorize(df['CROP TYPE'])\n",
    "df['SOIL TYPE'], _ = pd.factorize(df['SOIL TYPE'])\n",
    "df['REGION'], _ = pd.factorize(df['REGION'])\n",
    "df['WEATHER CONDITION'], _ = pd.factorize(df['WEATHER CONDITION'])\n",
    "\n",
    "# Function to split 'TEMPERATURE' column\n",
    "def split_temperature(temp):\n",
    "    if '-' in temp:\n",
    "        temp_range = temp.split('-')\n",
    "        return pd.Series([int(temp_range[0]), int(temp_range[1])])\n",
    "    else:\n",
    "        temp_value = int(temp)\n",
    "        return pd.Series([temp_value, temp_value])\n",
    "\n",
    "df[['TEMP_MIN', 'TEMP_MAX']] = df['TEMPERATURE'].apply(split_temperature)\n",
    "df.drop('TEMPERATURE', axis=1, inplace=True)\n",
    "\n",
    "# Prepare feature matrix X and target vector y\n",
    "X = df.drop('WATER REQUIREMENT', axis=1)\n",
    "y = df['WATER REQUIREMENT']\n",
    "\n",
    "# Split the dataset into training and testing sets\n",
    "X_train, X_test, y_train, y_test = train_test_split(X, y, test_size=0.2, random_state=42)\n",
    "\n",
    "# Initialize and train the Linear Regression model\n",
    "model = LinearRegression()\n",
    "model.fit(X_train, y_train)\n",
    "\n",
    "# Predict on the test set\n",
    "y_pred = model.predict(X_test)\n",
    "\n",
    "# Evaluate the model\n",
    "mse = mean_squared_error(y_test, y_pred)\n",
    "rmse = np.sqrt(mse)\n",
    "r2 = r2_score(y_test, y_pred)\n",
    "\n",
    "print(f\"Root Mean Squared Error (RMSE): {rmse}\")\n",
    "print(f\"R-squared: {r2}\")\n",
    "print(f\"Model Coefficients: {model.coef_}\")\n",
    "print(f\"Model Intercept: {model.intercept_}\")\n",
    "\n",
    "# Displaying the predicted vs actual values\n",
    "results = pd.DataFrame({'Actual': y_test, 'Predicted': y_pred})\n",
    "print(results)\n"
   ]
  },
  {
   "cell_type": "code",
   "execution_count": null,
   "id": "1e422d2e-6243-489f-98fd-6de41f2b5b83",
   "metadata": {},
   "outputs": [],
   "source": [
    "import pickle\n",
    "\n",
    "# Save the trained model to a .pkl file\n",
    "with open('logistic_regression_model4.pkl', 'wb') as file:\n",
    "    pickle.dump(model, file)"
   ]
  },
  {
   "cell_type": "code",
   "execution_count": null,
   "id": "bba33ba3",
   "metadata": {},
   "outputs": [],
   "source": [
    "from IPython.display import FileLink\n",
    "\n",
    "# Create a download link for the pickle file\n",
    "FileLink('logistic_regression_model.pkl')"
   ]
  }
 ],
 "metadata": {
  "kernelspec": {
   "display_name": "Python 3 (ipykernel)",
   "language": "python",
   "name": "python3"
  },
  "language_info": {
   "codemirror_mode": {
    "name": "ipython",
    "version": 3
   },
   "file_extension": ".py",
   "mimetype": "text/x-python",
   "name": "python",
   "nbconvert_exporter": "python",
   "pygments_lexer": "ipython3",
   "version": "3.12.0"
  }
 },
 "nbformat": 4,
 "nbformat_minor": 5
}
